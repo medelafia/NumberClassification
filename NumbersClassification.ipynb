{
  "cells": [
    {
      "cell_type": "code",
      "execution_count": 1,
      "metadata": {
        "id": "68faWG94xAZE"
      },
      "outputs": [
        {
          "name": "stdout",
          "output_type": "stream",
          "text": [
            "WARNING:tensorflow:From c:\\Users\\fujitsu\\AppData\\Local\\Programs\\Python\\Python311\\Lib\\site-packages\\keras\\src\\losses.py:2976: The name tf.losses.sparse_softmax_cross_entropy is deprecated. Please use tf.compat.v1.losses.sparse_softmax_cross_entropy instead.\n",
            "\n"
          ]
        }
      ],
      "source": [
        "import tensorflow as tf\n",
        "from keras.datasets import mnist\n",
        "import numpy as np\n",
        "import matplotlib.pyplot as plt"
      ]
    },
    {
      "cell_type": "code",
      "execution_count": 2,
      "metadata": {
        "colab": {
          "base_uri": "https://localhost:8080/"
        },
        "id": "Y4G0SlZzxWsa",
        "outputId": "83bc4b04-985c-4183-9edf-0c9cc8c3df83"
      },
      "outputs": [],
      "source": [
        "(x_train , y_train ) , (x_test , y_test ) = mnist.load_data()"
      ]
    },
    {
      "cell_type": "code",
      "execution_count": 3,
      "metadata": {
        "colab": {
          "base_uri": "https://localhost:8080/",
          "height": 465
        },
        "id": "B3kuxq-Uxiqo",
        "outputId": "14d01d63-dbc6-4cab-ac9d-14c1a09355de"
      },
      "outputs": [
        {
          "name": "stdout",
          "output_type": "stream",
          "text": [
            "the label is  5\n"
          ]
        },
        {
          "data": {
            "text/plain": [
              "<matplotlib.image.AxesImage at 0x2345caa3810>"
            ]
          },
          "execution_count": 3,
          "metadata": {},
          "output_type": "execute_result"
        },
        {
          "data": {
            "image/png": "[encoded data removed]",
            "text/plain": [
              "<Figure size 640x480 with 1 Axes>"
            ]
          },
          "metadata": {},
          "output_type": "display_data"
        }
      ],
      "source": [
        "import random\n",
        "idx = random.randint(1,x_train.shape[0] - 1 )\n",
        "img2show , label = x_train[idx] , y_train[idx]\n",
        "print(\"the label is \" , label )\n",
        "plt.imshow(img2show)"
      ]
    },
    {
      "cell_type": "code",
      "execution_count": 4,
      "metadata": {
        "colab": {
          "base_uri": "https://localhost:8080/"
        },
        "id": "0ue_o9sNygr3",
        "outputId": "1f851cbb-9839-4cec-fba0-4a099c3ed38b"
      },
      "outputs": [
        {
          "name": "stdout",
          "output_type": "stream",
          "text": [
            "the test data shape  (10000, 784) \n",
            "\n",
            "the train data shape  (60000, 784) \n",
            "\n"
          ]
        }
      ],
      "source": [
        "x_train , x_test = x_train.reshape(-1 , 28 * 28) , x_test.reshape(-1 , x_test.shape[1] * x_test.shape[2])\n",
        "print(\"the test data shape \" , x_test.shape  , \"\\n\")\n",
        "print(\"the train data shape \" , x_train.shape , \"\\n\")"
      ]
    },
    {
      "cell_type": "code",
      "execution_count": 5,
      "metadata": {},
      "outputs": [
        {
          "data": {
            "text/plain": [
              "(784,)"
            ]
          },
          "execution_count": 5,
          "metadata": {},
          "output_type": "execute_result"
        }
      ],
      "source": [
        "x_train[0].shape"
      ]
    },
    {
      "cell_type": "code",
      "execution_count": 6,
      "metadata": {
        "colab": {
          "base_uri": "https://localhost:8080/"
        },
        "id": "9i2SfvKM46Rx",
        "outputId": "fd1057f0-c17d-447e-ba0c-3bc8cd747371"
      },
      "outputs": [
        {
          "data": {
            "text/plain": [
              "(60000, 10)"
            ]
          },
          "execution_count": 6,
          "metadata": {},
          "output_type": "execute_result"
        }
      ],
      "source": [
        "y_train , y_test = tf.keras.utils.to_categorical(y_train , 10 ) , tf.keras.utils.to_categorical(y_test , 10 )\n",
        "x_train , x_test = x_train / 255.0 , x_test / 255.0\n",
        "y_train.shape"
      ]
    },
    {
      "cell_type": "code",
      "execution_count": 9,
      "metadata": {
        "colab": {
          "base_uri": "https://localhost:8080/"
        },
        "id": "ea1EQLdS8KWO",
        "outputId": "006b84f6-16c2-4fed-fb83-c2e6a93a8835"
      },
      "outputs": [
        {
          "name": "stdout",
          "output_type": "stream",
          "text": [
            "Model: \"sequential_2\"\n",
            "_________________________________________________________________\n",
            " Layer (type)                Output Shape              Param #   \n",
            "=================================================================\n",
            " dense_6 (Dense)             (None, 784)               615440    \n",
            "                                                                 \n",
            " dense_7 (Dense)             (None, 1000)              785000    \n",
            "                                                                 \n",
            " dense_8 (Dense)             (None, 500)               500500    \n",
            "                                                                 \n",
            " dense_9 (Dense)             (None, 10)                5010      \n",
            "                                                                 \n",
            "=================================================================\n",
            "Total params: 1905950 (7.27 MB)\n",
            "Trainable params: 1905950 (7.27 MB)\n",
            "Non-trainable params: 0 (0.00 Byte)\n",
            "_________________________________________________________________\n"
          ]
        }
      ],
      "source": [
        "from keras.models import Sequential\n",
        "from keras.layers import Dense\n",
        "from keras.optimizers import SGD , Adam\n",
        "model = Sequential()\n",
        "model.add(Dense(784 , activation = \"relu\" , input_shape = (x_train.shape[1],)))\n",
        "model.add(Dense(1000 , activation = \"relu\" ))\n",
        "model.add(Dense(500 , activation= \"relu\"))\n",
        "model.add(Dense(10 , activation = \"softmax\"))\n",
        "model.summary()"
      ]
    },
    {
      "cell_type": "code",
      "execution_count": 10,
      "metadata": {
        "id": "0-1NFoSq-IiE"
      },
      "outputs": [
        {
          "name": "stdout",
          "output_type": "stream",
          "text": [
            "WARNING:tensorflow:From c:\\Users\\fujitsu\\AppData\\Local\\Programs\\Python\\Python311\\Lib\\site-packages\\keras\\src\\optimizers\\__init__.py:309: The name tf.train.Optimizer is deprecated. Please use tf.compat.v1.train.Optimizer instead.\n",
            "\n"
          ]
        }
      ],
      "source": [
        "model.compile(optimizer=\"SGD\" , loss = \"categorical_crossentropy\" , metrics= [\"accuracy\"])"
      ]
    },
    {
      "cell_type": "code",
      "execution_count": 11,
      "metadata": {
        "colab": {
          "base_uri": "https://localhost:8080/"
        },
        "id": "M0PoysCa-rYl",
        "outputId": "1e52534e-46a7-4c12-f3cc-351c13ba471c"
      },
      "outputs": [
        {
          "name": "stdout",
          "output_type": "stream",
          "text": [
            "Epoch 1/10\n",
            "WARNING:tensorflow:From c:\\Users\\fujitsu\\AppData\\Local\\Programs\\Python\\Python311\\Lib\\site-packages\\keras\\src\\utils\\tf_utils.py:492: The name tf.ragged.RaggedTensorValue is deprecated. Please use tf.compat.v1.ragged.RaggedTensorValue instead.\n",
            "\n",
            "WARNING:tensorflow:From c:\\Users\\fujitsu\\AppData\\Local\\Programs\\Python\\Python311\\Lib\\site-packages\\keras\\src\\engine\\base_layer_utils.py:384: The name tf.executing_eagerly_outside_functions is deprecated. Please use tf.compat.v1.executing_eagerly_outside_functions instead.\n",
            "\n",
            "1875/1875 [==============================] - 31s 14ms/step - loss: 0.5424 - accuracy: 0.8600\n",
            "Epoch 2/10\n",
            "1875/1875 [==============================] - 26s 14ms/step - loss: 0.2357 - accuracy: 0.9319\n",
            "Epoch 3/10\n",
            "1875/1875 [==============================] - 26s 14ms/step - loss: 0.1815 - accuracy: 0.9481\n",
            "Epoch 4/10\n",
            "1875/1875 [==============================] - 27s 14ms/step - loss: 0.1480 - accuracy: 0.9576\n",
            "Epoch 5/10\n",
            "1875/1875 [==============================] - 27s 14ms/step - loss: 0.1238 - accuracy: 0.9645\n",
            "Epoch 6/10\n",
            "1875/1875 [==============================] - 27s 14ms/step - loss: 0.1052 - accuracy: 0.9699\n",
            "Epoch 7/10\n",
            "1875/1875 [==============================] - 25s 13ms/step - loss: 0.0912 - accuracy: 0.9740\n",
            "Epoch 8/10\n",
            "1875/1875 [==============================] - 25s 14ms/step - loss: 0.0794 - accuracy: 0.9775\n",
            "Epoch 9/10\n",
            "1875/1875 [==============================] - 26s 14ms/step - loss: 0.0696 - accuracy: 0.9807\n",
            "Epoch 10/10\n",
            "1875/1875 [==============================] - 26s 14ms/step - loss: 0.0620 - accuracy: 0.9826\n"
          ]
        },
        {
          "data": {
            "text/plain": [
              "<keras.src.callbacks.History at 0x2345f936b90>"
            ]
          },
          "execution_count": 11,
          "metadata": {},
          "output_type": "execute_result"
        }
      ],
      "source": [
        "model.fit(x_train , y_train ,epochs= 10)"
      ]
    },
    {
      "cell_type": "code",
      "execution_count": 12,
      "metadata": {
        "colab": {
          "base_uri": "https://localhost:8080/"
        },
        "id": "Y7ooQUuy_ify",
        "outputId": "a2f16262-6701-490a-f9e6-55b3fac8a930"
      },
      "outputs": [
        {
          "name": "stdout",
          "output_type": "stream",
          "text": [
            "1/1 [==============================] - 0s 168ms/step\n",
            "the true label is :  7 \n",
            "\n",
            "the predected value is :  7\n"
          ]
        }
      ],
      "source": [
        "idx_test = random.randint(0,x_test.shape[0] - 1)\n",
        "img_test = x_test[idx_test]\n",
        "img_test = np.expand_dims( img_test , axis = 0 )\n",
        "prd_value = model.predict(img_test)\n",
        "prd_label = np.argmax(prd_value)\n",
        "print(\"the true label is : \" , np.argmax(y_test[idx_test]) , \"\\n\")\n",
        "print(\"the predected value is : \" , prd_label)"
      ]
    },
    {
      "cell_type": "code",
      "execution_count": null,
      "metadata": {
        "colab": {
          "base_uri": "https://localhost:8080/"
        },
        "id": "IUnPV8UqKro6",
        "outputId": "443f4e88-2c57-4637-fdee-e86155ae7ff8"
      },
      "outputs": [
        {
          "data": {
            "text/plain": [
              "(10000, 784)"
            ]
          },
          "execution_count": 11,
          "metadata": {},
          "output_type": "execute_result"
        }
      ],
      "source": []
    }
  ],
  "metadata": {
    "colab": {
      "provenance": []
    },
    "kernelspec": {
      "display_name": "Python 3.11.5 64-bit",
      "language": "python",
      "name": "python3"
    },
    "language_info": {
      "codemirror_mode": {
        "name": "ipython",
        "version": 3
      },
      "file_extension": ".py",
      "mimetype": "text/x-python",
      "name": "python",
      "nbconvert_exporter": "python",
      "pygments_lexer": "ipython3",
      "version": "3.11.5"
    },
    "vscode": {
      "interpreter": {
        "hash": "5628785dddedbcd5c3683e2ce5002e48c6a8eea8efd81fe7942b1c3d13fa62b8"
      }
    }
  },
  "nbformat": 4,
  "nbformat_minor": 0
}
